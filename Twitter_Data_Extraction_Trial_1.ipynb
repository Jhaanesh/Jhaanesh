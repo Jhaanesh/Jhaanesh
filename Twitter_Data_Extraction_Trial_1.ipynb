{
  "nbformat": 4,
  "nbformat_minor": 0,
  "metadata": {
    "colab": {
      "provenance": [],
      "authorship_tag": "ABX9TyO7JL1QpMIsvG8I8GxjX2gD"
    },
    "kernelspec": {
      "name": "python3",
      "display_name": "Python 3"
    },
    "language_info": {
      "name": "python"
    }
  },
  "cells": [
    {
      "cell_type": "code",
      "source": [
        "pip install git+https://github.com/tweepy/tweepy.git"
      ],
      "metadata": {
        "colab": {
          "base_uri": "https://localhost:8080/"
        },
        "id": "emdPUCqvIQfD",
        "outputId": "766d4d88-e5ea-40ff-e218-3ae143d35703"
      },
      "execution_count": 1,
      "outputs": [
        {
          "output_type": "stream",
          "name": "stdout",
          "text": [
            "Collecting git+https://github.com/tweepy/tweepy.git\n",
            "  Cloning https://github.com/tweepy/tweepy.git to /tmp/pip-req-build-eiqinbk4\n",
            "  Running command git clone --filter=blob:none --quiet https://github.com/tweepy/tweepy.git /tmp/pip-req-build-eiqinbk4\n",
            "  Resolved https://github.com/tweepy/tweepy.git to commit 91a41c6e1c955d278c370d51d5cf43b05f7cd979\n",
            "  Preparing metadata (setup.py) ... \u001b[?25l\u001b[?25hdone\n",
            "Requirement already satisfied: oauthlib<4,>=3.2.0 in /usr/local/lib/python3.10/dist-packages (from tweepy==4.14.0) (3.2.2)\n",
            "Requirement already satisfied: requests<3,>=2.27.0 in /usr/local/lib/python3.10/dist-packages (from tweepy==4.14.0) (2.31.0)\n",
            "Requirement already satisfied: requests-oauthlib<2,>=1.2.0 in /usr/local/lib/python3.10/dist-packages (from tweepy==4.14.0) (1.3.1)\n",
            "Requirement already satisfied: charset-normalizer<4,>=2 in /usr/local/lib/python3.10/dist-packages (from requests<3,>=2.27.0->tweepy==4.14.0) (3.3.2)\n",
            "Requirement already satisfied: idna<4,>=2.5 in /usr/local/lib/python3.10/dist-packages (from requests<3,>=2.27.0->tweepy==4.14.0) (3.6)\n",
            "Requirement already satisfied: urllib3<3,>=1.21.1 in /usr/local/lib/python3.10/dist-packages (from requests<3,>=2.27.0->tweepy==4.14.0) (2.0.7)\n",
            "Requirement already satisfied: certifi>=2017.4.17 in /usr/local/lib/python3.10/dist-packages (from requests<3,>=2.27.0->tweepy==4.14.0) (2024.2.2)\n"
          ]
        }
      ]
    },
    {
      "cell_type": "code",
      "source": [
        "import tweepy\n",
        "import pandas as pd"
      ],
      "metadata": {
        "id": "SNB-1OciIQUZ"
      },
      "execution_count": 3,
      "outputs": []
    },
    {
      "cell_type": "code",
      "execution_count": 5,
      "metadata": {
        "colab": {
          "base_uri": "https://localhost:8080/"
        },
        "id": "acLQDQuEINXD",
        "outputId": "3b1f5be7-534c-47a1-aadc-ec831137ed8a"
      },
      "outputs": [
        {
          "output_type": "stream",
          "name": "stdout",
          "text": [
            "Status Failed On, 403 Forbidden\n",
            "453 - You currently have access to a subset of Twitter API v2 endpoints and limited v1.1 endpoints (e.g. media post, oauth) only. If you need access to this endpoint, you may need a different access level. You can learn more here: https://developer.twitter.com/en/portal/product\n"
          ]
        }
      ],
      "source": [
        "consumer_key = 'jt1NJg3TwMPQALxK1BUUBQIYs'\n",
        "consumer_api = 'gzjJhDTZhz8rkOeIsyV7h633QzC7RdfnHh06qYxCINQpwonAWi'\n",
        "access_token = '1759984903247020032-sma5f65fyJhVu9oFOySQVpkY3dnXPx'\n",
        "access_token_secret = 'KUqEf7fRrkWrknq6TTOWzBaJPvCDxfF68tPfvF4DNsi88'\n",
        "\n",
        "# Pass in our API authentication key\n",
        "\n",
        "auth = tweepy.OAuth1UserHandler(\n",
        "       consumer_key, consumer_api, access_token, access_token_secret\n",
        ")\n",
        "\n",
        "# Instantiate the tweepy API\n",
        "\n",
        "api = tweepy.API(auth, wait_on_rate_limit=True)\n",
        "\n",
        "search_query = \"'ICMR''Infection''COVID' -fliter:retweets AND -filter:replies AND -filter:links \"\n",
        "no_of_tweets = 100\n",
        "\n",
        "try:\n",
        "  #The number of tweets we want to retrieved from the search\n",
        "  tweets = api.search_tweets(q=search_query, lang= \"en\", count=no_of_tweets, tweet_mode = 'extended')\n",
        "\n",
        "  #Pulling Some attributes from the tweet\n",
        "  attributes_container = [[tweet.user.name, tweet.created_at, tweet.favorite_count, tweet.source, tweet.full_text] for tweet in tweets]\n",
        "\n",
        "  #Creation of column list to rename the columns in the dataframe\n",
        "  columns = [\"User\", \"Date Created\", \"Number of Likes\", \"Source of Tweet\", \"Tweet\"]\n",
        "\n",
        "  #Creation of Dataframe\n",
        "  tweets_df = pd.DataFrame(attributes_container, columns=columns)\n",
        "\n",
        "except BaseException as e:\n",
        "    print('Status Failed On,',str(e))"
      ]
    }
  ]
}